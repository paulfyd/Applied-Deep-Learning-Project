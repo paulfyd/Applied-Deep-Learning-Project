{
  "nbformat": 4,
  "nbformat_minor": 0,
  "metadata": {
    "colab": {
      "name": "test-train-val.ipynb",
      "provenance": [],
      "collapsed_sections": []
    },
    "kernelspec": {
      "name": "python3",
      "display_name": "Python 3"
    },
    "language_info": {
      "name": "python"
    }
  },
  "cells": [
    {
      "cell_type": "markdown",
      "source": [
        "# Setup Notebook"
      ],
      "metadata": {
        "id": "PYEl2uOVQSnu"
      }
    },
    {
      "cell_type": "code",
      "execution_count": null,
      "metadata": {
        "id": "kv97OaloGDXq",
        "colab": {
          "base_uri": "https://localhost:8080/"
        },
        "outputId": "c6409949-84ee-424e-9949-da1d51e21334"
      },
      "outputs": [
        {
          "output_type": "stream",
          "name": "stdout",
          "text": [
            "Mounted at /content/drive\n"
          ]
        }
      ],
      "source": [
        "from google.colab import drive\n",
        "drive.mount('/content/drive')"
      ]
    },
    {
      "cell_type": "markdown",
      "source": [
        "# Imports"
      ],
      "metadata": {
        "id": "FICCfKEQLUYN"
      }
    },
    {
      "cell_type": "code",
      "source": [
        "! pip install split-folders"
      ],
      "metadata": {
        "colab": {
          "base_uri": "https://localhost:8080/"
        },
        "id": "CidhWuYDlyuN",
        "outputId": "2cab54cf-25a9-41e5-d925-481358969831"
      },
      "execution_count": null,
      "outputs": [
        {
          "output_type": "stream",
          "name": "stdout",
          "text": [
            "Collecting split-folders\n",
            "  Downloading split_folders-0.5.1-py3-none-any.whl (8.4 kB)\n",
            "Installing collected packages: split-folders\n",
            "Successfully installed split-folders-0.5.1\n"
          ]
        }
      ]
    },
    {
      "cell_type": "code",
      "source": [
        "import splitfolders"
      ],
      "metadata": {
        "id": "lWt_BdkvMNBS"
      },
      "execution_count": null,
      "outputs": []
    },
    {
      "cell_type": "markdown",
      "source": [
        "# Creation of the test / train / validation directories"
      ],
      "metadata": {
        "id": "JrnkKE1Haa0Y"
      }
    },
    {
      "cell_type": "code",
      "source": [
        "splitfolders.ratio('/content/drive/MyDrive/Applied Deep Learning/data/imgs/',\n",
        "                   output='./',\n",
        "                   seed=42,\n",
        "                   ratio=(.8, .1, .1))"
      ],
      "metadata": {
        "id": "TQ7igdj-mVyD",
        "colab": {
          "base_uri": "https://localhost:8080/"
        },
        "outputId": "008ced77-2018-4bb0-f2dc-983811b44de4"
      },
      "execution_count": null,
      "outputs": [
        {
          "output_type": "stream",
          "name": "stderr",
          "text": [
            "Copying files: 3146 files [01:36, 32.61 files/s] \n"
          ]
        }
      ]
    },
    {
      "cell_type": "code",
      "source": [
        "! cp -r './test' '/content/drive/MyDrive/Applied Deep Learning/data/'"
      ],
      "metadata": {
        "id": "q3mBWIbe0bVC"
      },
      "execution_count": null,
      "outputs": []
    },
    {
      "cell_type": "code",
      "source": [
        "! cp -r './train' '/content/drive/MyDrive/Applied Deep Learning/data/'"
      ],
      "metadata": {
        "id": "dSn4VhO005ql"
      },
      "execution_count": null,
      "outputs": []
    },
    {
      "cell_type": "code",
      "source": [
        "! cp -r './val' '/content/drive/MyDrive/Applied Deep Learning/data/'"
      ],
      "metadata": {
        "id": "DMI3nohI1Oli"
      },
      "execution_count": null,
      "outputs": []
    }
  ]
}